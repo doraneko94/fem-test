{
 "cells": [
  {
   "cell_type": "code",
   "execution_count": 1,
   "metadata": {},
   "outputs": [],
   "source": [
    "import numpy as np\n",
    "import pandas as pd\n",
    "from matplotlib import pyplot as plt\n",
    "from matplotlib import animation as anime\n",
    "from matplotlib.animation import PillowWriter"
   ]
  },
  {
   "cell_type": "code",
   "execution_count": 2,
   "metadata": {},
   "outputs": [
    {
     "name": "stderr",
     "output_type": "stream",
     "text": [
      "   Compiling fem-test v0.1.0 (C:\\Rust\\codes\\fem-test)\n",
      "    Finished dev [unoptimized + debuginfo] target(s) in 4.96s\n",
      "     Running `target\\debug\\examples\\fem1d_advection.exe`\n"
     ]
    }
   ],
   "source": [
    "! cargo run --example fem1d_advection > advection.csv"
   ]
  },
  {
   "cell_type": "code",
   "execution_count": 3,
   "metadata": {},
   "outputs": [],
   "source": [
    "df = pd.read_csv(\"advection.csv\", header=None).values"
   ]
  },
  {
   "cell_type": "code",
   "execution_count": 4,
   "metadata": {},
   "outputs": [
    {
     "data": {
      "image/png": "[encoded data removed]",
      "text/plain": [
       "<Figure size 432x288 with 1 Axes>"
      ]
     },
     "metadata": {
      "needs_background": "light"
     },
     "output_type": "display_data"
    }
   ],
   "source": [
    "fig = plt.figure(figsize=(6, 4))\n",
    "ax = fig.add_subplot(1, 1, 1)"
   ]
  },
  {
   "cell_type": "code",
   "execution_count": 5,
   "metadata": {},
   "outputs": [],
   "source": [
    "x = np.linspace(0.0, 2.0, 201)\n",
    "dt = 0.005\n",
    "\n",
    "def update_func(i):\n",
    "    ax.clear()\n",
    "    \n",
    "    ax.plot(x, df[i, :-1], color='blue')\n",
    "    ax.scatter(x, df[i, :-1], color='blue')\n",
    "    ax.set_ylim(-0.1, 1.1)\n",
    "    ax.set_xlabel('x', fontsize=12)\n",
    "    ax.set_ylabel('f', fontsize=12)\n",
    "    ax.set_title('Time: ' + '{:.2f}'.format(dt * i))"
   ]
  },
  {
   "cell_type": "code",
   "execution_count": 6,
   "metadata": {},
   "outputs": [],
   "source": [
    "ani = anime.FuncAnimation(fig, update_func, frames=200, interval=100, repeat=True)\n",
    "ani.save('fem1d_advection.gif', writer='pillow')"
   ]
  },
  {
   "cell_type": "code",
   "execution_count": null,
   "metadata": {},
   "outputs": [],
   "source": []
  }
 ],
 "metadata": {
  "kernelspec": {
   "display_name": "Python 3",
   "language": "python",
   "name": "python3"
  },
  "language_info": {
   "codemirror_mode": {
    "name": "ipython",
    "version": 3
   },
   "file_extension": ".py",
   "mimetype": "text/x-python",
   "name": "python",
   "nbconvert_exporter": "python",
   "pygments_lexer": "ipython3",
   "version": "3.7.5"
  }
 },
 "nbformat": 4,
 "nbformat_minor": 4
}
